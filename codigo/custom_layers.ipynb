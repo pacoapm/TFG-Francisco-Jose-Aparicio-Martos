{
 "cells": [
  {
   "cell_type": "code",
   "execution_count": 1,
   "metadata": {},
   "outputs": [],
   "source": [
    "from brevitas.core.scaling import ConstScaling\n",
    "from brevitas.core.quant.int_base import IntQuant\n",
    "import torch\n",
    "import torch.nn as nn\n",
    "from torch.nn.functional import linear"
   ]
  },
  {
   "cell_type": "code",
   "execution_count": 5,
   "metadata": {},
   "outputs": [
    {
     "name": "stdout",
     "output_type": "stream",
     "text": [
      "tensor(4.)\n",
      "tensor([0.0200, 0.0000, 0.0200, 0.0000])\n"
     ]
    }
   ],
   "source": [
    "int_quant = IntQuant(narrow_range=True, signed=False)\n",
    "print(torch.tensor(4.))\n",
    "scale, zero_point, bit_width = torch.tensor(0.01), torch.tensor(0.), torch.tensor(2.)\n",
    "inp = torch.Tensor([0.042, -0.053, 0.31, -0.44])\n",
    "out = int_quant(scale, zero_point, bit_width, inp)\n",
    "print(out)"
   ]
  },
  {
   "cell_type": "code",
   "execution_count": 9,
   "metadata": {},
   "outputs": [
    {
     "data": {
      "text/plain": [
       "tensor([[ 4.1672e+11,  4.5705e-41, -4.9658e+03,  3.0866e-41, -2.1834e-11],\n",
       "        [ 4.5703e-41, -2.1834e-11,  4.5703e-41, -2.1834e-11,  4.5703e-41],\n",
       "        [-2.1833e-11,  4.5703e-41, -2.1832e-11,  4.5703e-41, -2.1834e-11],\n",
       "        [ 4.5703e-41, -2.1832e-11,  4.5703e-41, -2.1834e-11,  4.5703e-41],\n",
       "        [-2.1832e-11,  4.5703e-41, -2.1834e-11,  4.5703e-41, -2.1832e-11]])"
      ]
     },
     "execution_count": 9,
     "metadata": {},
     "output_type": "execute_result"
    }
   ],
   "source": [
    "torch.Tensor(5,5)"
   ]
  },
  {
   "cell_type": "markdown",
   "metadata": {},
   "source": [
    "Creación de la linear custom layer"
   ]
  },
  {
   "cell_type": "code",
   "execution_count": 19,
   "metadata": {},
   "outputs": [],
   "source": [
    "class LinearC(nn.Module):\n",
    "    def __init__(self,size_in,size_out):\n",
    "        super(LinearC,self).__init__()\n",
    "        self.size_in = size_in\n",
    "        self.size_out = size_out\n",
    "        weight = torch.Tensor(self.size_out,self.size_in)\n",
    "        self.weight = nn.Parameter(weight)\n",
    "        nn.init.xavier_normal_(self.weight,1)\n",
    "\n",
    "    def forward(self,x):\n",
    "        output = linear(x,self.weight,bias=None)\n",
    "        return torch.round(input=output,decimals=1)\n"
   ]
  },
  {
   "cell_type": "code",
   "execution_count": 7,
   "metadata": {},
   "outputs": [],
   "source": [
    "capa1 = LinearC(5,2)\n",
    "capa2 = LinearC(2,1)"
   ]
  },
  {
   "cell_type": "code",
   "execution_count": 14,
   "metadata": {},
   "outputs": [
    {
     "data": {
      "text/plain": [
       "tensor([[-0.9977, -1.2267],\n",
       "        [-0.9977, -1.2267],\n",
       "        [-0.9977, -1.2267],\n",
       "        [-0.9977, -1.2267],\n",
       "        [-0.9977, -1.2267],\n",
       "        [-0.9977, -1.2267],\n",
       "        [-0.9977, -1.2267],\n",
       "        [-0.9977, -1.2267],\n",
       "        [-0.9977, -1.2267],\n",
       "        [-0.9977, -1.2267]], grad_fn=<MmBackward0>)"
      ]
     },
     "execution_count": 14,
     "metadata": {},
     "output_type": "execute_result"
    }
   ],
   "source": [
    "tensor = torch.ones(10,5)\n",
    "capa1(tensor)"
   ]
  },
  {
   "cell_type": "code",
   "execution_count": 19,
   "metadata": {},
   "outputs": [],
   "source": [
    "net = nn.Sequential(\n",
    "    capa1,\n",
    "    capa2\n",
    ")"
   ]
  },
  {
   "cell_type": "code",
   "execution_count": 20,
   "metadata": {},
   "outputs": [
    {
     "data": {
      "text/plain": [
       "tensor([[-1.6000],\n",
       "        [-1.6000],\n",
       "        [-1.6000],\n",
       "        [-1.6000],\n",
       "        [-1.6000],\n",
       "        [-1.6000],\n",
       "        [-1.6000],\n",
       "        [-1.6000],\n",
       "        [-1.6000],\n",
       "        [-1.6000]], grad_fn=<RoundBackward1>)"
      ]
     },
     "execution_count": 20,
     "metadata": {},
     "output_type": "execute_result"
    }
   ],
   "source": [
    "net(tensor)"
   ]
  },
  {
   "cell_type": "code",
   "execution_count": 21,
   "metadata": {},
   "outputs": [],
   "source": [
    "class CustomNet(nn.Module):\n",
    "    def __init__(self):\n",
    "        super(CustomNet, self).__init__()\n",
    "        self.linear_relu_stack = nn.Sequential(\n",
    "            LinearC(5,4),\n",
    "            nn.ReLU(),\n",
    "            LinearC(4,10)\n",
    "        )\n",
    "\n",
    "    def forward(self,x):\n",
    "        return self.linear_relu_stack(x)\n",
    "        \n",
    "    "
   ]
  },
  {
   "cell_type": "code",
   "execution_count": 22,
   "metadata": {},
   "outputs": [],
   "source": [
    "net = CustomNet()\n"
   ]
  },
  {
   "cell_type": "code",
   "execution_count": 23,
   "metadata": {},
   "outputs": [
    {
     "data": {
      "text/plain": [
       "tensor([[-1.8000, -0.6000,  0.4000, -0.3000, -1.0000,  1.1000, -0.7000,  0.5000,\n",
       "         -1.4000,  1.1000],\n",
       "        [-1.8000, -0.6000,  0.4000, -0.3000, -1.0000,  1.1000, -0.7000,  0.5000,\n",
       "         -1.4000,  1.1000],\n",
       "        [-1.8000, -0.6000,  0.4000, -0.3000, -1.0000,  1.1000, -0.7000,  0.5000,\n",
       "         -1.4000,  1.1000],\n",
       "        [-1.8000, -0.6000,  0.4000, -0.3000, -1.0000,  1.1000, -0.7000,  0.5000,\n",
       "         -1.4000,  1.1000],\n",
       "        [-1.8000, -0.6000,  0.4000, -0.3000, -1.0000,  1.1000, -0.7000,  0.5000,\n",
       "         -1.4000,  1.1000],\n",
       "        [-1.8000, -0.6000,  0.4000, -0.3000, -1.0000,  1.1000, -0.7000,  0.5000,\n",
       "         -1.4000,  1.1000],\n",
       "        [-1.8000, -0.6000,  0.4000, -0.3000, -1.0000,  1.1000, -0.7000,  0.5000,\n",
       "         -1.4000,  1.1000],\n",
       "        [-1.8000, -0.6000,  0.4000, -0.3000, -1.0000,  1.1000, -0.7000,  0.5000,\n",
       "         -1.4000,  1.1000],\n",
       "        [-1.8000, -0.6000,  0.4000, -0.3000, -1.0000,  1.1000, -0.7000,  0.5000,\n",
       "         -1.4000,  1.1000],\n",
       "        [-1.8000, -0.6000,  0.4000, -0.3000, -1.0000,  1.1000, -0.7000,  0.5000,\n",
       "         -1.4000,  1.1000]], grad_fn=<RoundBackward1>)"
      ]
     },
     "execution_count": 23,
     "metadata": {},
     "output_type": "execute_result"
    }
   ],
   "source": [
    "net(tensor)"
   ]
  },
  {
   "cell_type": "code",
   "execution_count": null,
   "metadata": {},
   "outputs": [],
   "source": []
  }
 ],
 "metadata": {
  "interpreter": {
   "hash": "54e7bf377929e003ce704e064372d86d515884b8fe63c4a918b625b8731f2a8b"
  },
  "kernelspec": {
   "display_name": "Python 3.8.13 ('brevitas')",
   "language": "python",
   "name": "python3"
  },
  "language_info": {
   "codemirror_mode": {
    "name": "ipython",
    "version": 3
   },
   "file_extension": ".py",
   "mimetype": "text/x-python",
   "name": "python",
   "nbconvert_exporter": "python",
   "pygments_lexer": "ipython3",
   "version": "3.8.13"
  },
  "orig_nbformat": 4
 },
 "nbformat": 4,
 "nbformat_minor": 2
}
